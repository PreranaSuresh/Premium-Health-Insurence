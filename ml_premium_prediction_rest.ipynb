{
 "cells": [
  {
   "cell_type": "code",
   "execution_count": null,
   "id": "54abe5d5",
   "metadata": {},
   "outputs": [],
   "source": [
    "import pandas as pd\n",
    "import numpy as np\n",
    "from matplotlib import pyplot as plt\n",
    "import seaborn as sns\n",
    "from sklearn.linear_model import LinearRegression, Ridge, Lasso\n",
    "from sklearn.metrics import r2_score, mean_squared_error, mean_absolute_error\n",
    "from statsmodels.stats.outliers_influence import variance_inflation_factor\n",
    "from sklearn.model_selection import train_test_split, cross_val_score\n",
    "from sklearn.model_selection import GridSearchCV, RandomizedSearchCV, train_test_split"
   ]
  },
  {
   "cell_type": "markdown",
   "id": "0f5bd52e",
   "metadata": {},
   "source": [
    "<h2 align=\"center\" style=\"color:blue\">Data Loading</h2>"
   ]
  },
  {
   "cell_type": "code",
   "execution_count": null,
   "id": "f40e08ee",
   "metadata": {
    "scrolled": true
   },
   "outputs": [],
   "source": [
    "df = pd.read_excel(\"premiums_rest.xlsx\")\n",
    "df.head(3)"
   ]
  },
  {
   "cell_type": "code",
   "execution_count": null,
   "id": "23a66ebd",
   "metadata": {
    "scrolled": true
   },
   "outputs": [],
   "source": [
    "df.shape"
   ]
  },
  {
   "cell_type": "code",
   "execution_count": null,
   "id": "b8d3348f",
   "metadata": {
    "scrolled": true
   },
   "outputs": [],
   "source": [
    "df.columns = df.columns.str.replace(\" \",\"_\").str.lower()\n",
    "df.head(3)"
   ]
  },
  {
   "cell_type": "markdown",
   "id": "a55fded6",
   "metadata": {},
   "source": [
    "<h2 align=\"center\" style=\"color:blue\">Exploratory Data Analysis & Data Cleaning</h2>"
   ]
  },
  {
   "cell_type": "markdown",
   "id": "92eb1f79",
   "metadata": {},
   "source": [
    "### Handle Missing Values"
   ]
  },
  {
   "cell_type": "code",
   "execution_count": null,
   "id": "b7b1fa55",
   "metadata": {},
   "outputs": [],
   "source": [
    "df.isna().sum()"
   ]
  },
  {
   "cell_type": "code",
   "execution_count": null,
   "id": "420fd9bb",
   "metadata": {
    "scrolled": true
   },
   "outputs": [],
   "source": [
    "df.dropna(inplace=True)\n",
    "df.isna().sum()"
   ]
  },
  {
   "cell_type": "markdown",
   "id": "b9bed4ec",
   "metadata": {},
   "source": [
    "### Handle Duplicates"
   ]
  },
  {
   "cell_type": "code",
   "execution_count": null,
   "id": "f9dd4ed5",
   "metadata": {},
   "outputs": [],
   "source": [
    "df.duplicated().sum()"
   ]
  },
  {
   "cell_type": "code",
   "execution_count": null,
   "id": "7b384db4",
   "metadata": {},
   "outputs": [],
   "source": [
    "df.drop_duplicates(inplace=True)\n",
    "df.duplicated().sum()"
   ]
  },
  {
   "cell_type": "code",
   "execution_count": null,
   "id": "3a7cffcf",
   "metadata": {
    "scrolled": true
   },
   "outputs": [],
   "source": [
    "df.describe()"
   ]
  },
  {
   "cell_type": "markdown",
   "id": "b1de0da6",
   "metadata": {},
   "source": [
    "#### Data Cleaning: number_of_dependants"
   ]
  },
  {
   "cell_type": "code",
   "execution_count": null,
   "id": "e1d2abe8",
   "metadata": {},
   "outputs": [],
   "source": [
    "df[df['number_of_dependants']<0]['number_of_dependants'].unique()"
   ]
  },
  {
   "cell_type": "markdown",
   "id": "be3c10a2",
   "metadata": {},
   "source": [
    "We can see some negative values in number_of_dependants. We can replace them with positive numbers"
   ]
  },
  {
   "cell_type": "code",
   "execution_count": null,
   "id": "c1ccc19c",
   "metadata": {
    "scrolled": true
   },
   "outputs": [],
   "source": [
    "df['number_of_dependants'] = df['number_of_dependants'].abs()\n",
    "\n",
    "df.describe()"
   ]
  },
  {
   "cell_type": "markdown",
   "id": "d25e1dcc",
   "metadata": {},
   "source": [
    "## 1. Numeric Columns"
   ]
  },
  {
   "cell_type": "markdown",
   "id": "a20b867d",
   "metadata": {},
   "source": [
    "#### Box plots for numeric columns"
   ]
  },
  {
   "cell_type": "code",
   "execution_count": null,
   "id": "fd14090c",
   "metadata": {},
   "outputs": [],
   "source": [
    "numeric_columns = df.select_dtypes(include=['float64', 'int64']).columns\n",
    "numeric_columns  "
   ]
  },
  {
   "cell_type": "markdown",
   "id": "c317fce7",
   "metadata": {},
   "source": [
    "### Outlier Treatment: Age Column"
   ]
  },
  {
   "cell_type": "code",
   "execution_count": null,
   "id": "61fc364a",
   "metadata": {},
   "outputs": [],
   "source": [
    "df[df['age']>100]['age'].unique()"
   ]
  },
  {
   "cell_type": "code",
   "execution_count": null,
   "id": "0a2bd223",
   "metadata": {},
   "outputs": [],
   "source": [
    "df1 = df[df.age<=100]\n",
    "df1.age.describe()"
   ]
  },
  {
   "cell_type": "markdown",
   "id": "e167d148",
   "metadata": {},
   "source": [
    "### Outlier Treatment: Income Column"
   ]
  },
  {
   "cell_type": "code",
   "execution_count": null,
   "id": "c02852cf",
   "metadata": {},
   "outputs": [],
   "source": [
    "quantile_thresold = df1.income_lakhs.quantile(0.999)\n",
    "quantile_thresold"
   ]
  },
  {
   "cell_type": "code",
   "execution_count": null,
   "id": "fe2fde08",
   "metadata": {},
   "outputs": [],
   "source": [
    "df1[df1.income_lakhs>quantile_thresold].shape"
   ]
  },
  {
   "cell_type": "code",
   "execution_count": null,
   "id": "e1b1520a",
   "metadata": {
    "scrolled": true
   },
   "outputs": [],
   "source": [
    "df2 = df1[df1.income_lakhs<=quantile_thresold].copy()\n",
    "df1.shape"
   ]
  },
  {
   "cell_type": "code",
   "execution_count": null,
   "id": "42d49b02",
   "metadata": {},
   "outputs": [],
   "source": [
    "fig, axs = plt.subplots(nrows=2, ncols=2, figsize=(10, 8))  # Adjust the size as necessary\n",
    "\n",
    "for i, column in enumerate(numeric_columns):\n",
    "    ax = axs[i//2, i%2]  # Determines the position of the subplot in the grid\n",
    "    sns.histplot(df2[column], kde=True, ax=ax)\n",
    "    ax.set_title(column)\n",
    "\n",
    "plt.tight_layout()\n",
    "plt.show()"
   ]
  },
  {
   "cell_type": "code",
   "execution_count": null,
   "id": "8f5441db",
   "metadata": {},
   "outputs": [],
   "source": [
    "numeric_features = ['age', 'income_lakhs', 'number_of_dependants']\n",
    "\n",
    "fig, axes = plt.subplots(1, len(numeric_features), figsize=(18, 6))  # Adjust figure size as necessary\n",
    "\n",
    "for ax, column in zip(axes, numeric_features):\n",
    "    sns.scatterplot(x=df2[column], y=df2['annual_premium_amount'], ax=ax)\n",
    "    ax.set_title(f'{column} vs. Annual Premium Amount')\n",
    "    ax.set_xlabel(column)\n",
    "    ax.set_ylabel('Annual Premium Amount')\n",
    "\n",
    "plt.tight_layout()  # Adjust layout\n",
    "plt.show()"
   ]
  },
  {
   "cell_type": "markdown",
   "id": "106487b6",
   "metadata": {},
   "source": [
    "## 2. Categorical Columns"
   ]
  },
  {
   "cell_type": "code",
   "execution_count": null,
   "id": "2f4bca62",
   "metadata": {},
   "outputs": [],
   "source": [
    "categorical_cols = ['gender', 'region', 'marital_status', 'bmi_category', 'smoking_status', 'employment_status', 'income_level', 'medical_history', 'insurance_plan']\n",
    "for col in categorical_cols:\n",
    "    print(col, \":\", df2[col].unique())"
   ]
  },
  {
   "cell_type": "code",
   "execution_count": null,
   "id": "5e95421c",
   "metadata": {},
   "outputs": [],
   "source": [
    "df2['smoking_status'].replace({\n",
    "    'Not Smoking': 'No Smoking',\n",
    "    'Does Not Smoke': 'No Smoking',\n",
    "    'Smoking=0': 'No Smoking'\n",
    "}, inplace=True)\n",
    "\n",
    "df2['smoking_status'].unique()"
   ]
  },
  {
   "cell_type": "markdown",
   "id": "7447a952",
   "metadata": {},
   "source": [
    "<h2 align=\"center\" style=\"color:blue\">Feature Engineering</h2>"
   ]
  },
  {
   "cell_type": "code",
   "execution_count": null,
   "id": "aca5ce6c",
   "metadata": {},
   "outputs": [],
   "source": [
    "df2.head(2)"
   ]
  },
  {
   "cell_type": "markdown",
   "id": "172dfdcb",
   "metadata": {},
   "source": [
    "### Calculate Risk Score"
   ]
  },
  {
   "cell_type": "code",
   "execution_count": null,
   "id": "375600d0",
   "metadata": {},
   "outputs": [],
   "source": [
    "# Define the risk scores for each condition\n",
    "risk_scores = {\n",
    "    \"diabetes\": 6,\n",
    "    \"heart disease\": 8,\n",
    "    \"high blood pressure\":6,\n",
    "    \"thyroid\": 5,\n",
    "    \"no disease\": 0,\n",
    "    \"none\":0\n",
    "}\n",
    "\n",
    "df2[['disease1', 'disease2']] = df2['medical_history'].str.split(\" & \", expand=True).apply(lambda x: x.str.lower())\n",
    "df2['disease1'] = df2['disease1'].fillna('none')\n",
    "df2['disease2'] = df2['disease2'].fillna('none')\n",
    "Diseases = ['disease1', 'disease2']\n",
    "df2['total_risk_score'] = 0\n",
    "for disease in Diseases:\n",
    "    df2['total_risk_score'] += df2[disease].map(risk_scores)\n",
    "\n",
    "# Normalize the risk score to a range of 0 to 1\n",
    "max_score = df2['total_risk_score'].max()\n",
    "min_score = df2['total_risk_score'].min()\n",
    "df2['normalized_risk_score'] = (df2['total_risk_score'] - min_score) / (max_score - min_score)\n",
    "df2.head(2)"
   ]
  },
  {
   "cell_type": "markdown",
   "id": "75ea6c3e",
   "metadata": {},
   "source": [
    "### Encode Text Columns"
   ]
  },
  {
   "cell_type": "code",
   "execution_count": null,
   "id": "b728c274",
   "metadata": {},
   "outputs": [],
   "source": [
    "df2['insurance_plan'] = df2['insurance_plan'].map({'Gold': 3,'Silver': 2,'Bronze': 1})"
   ]
  },
  {
   "cell_type": "code",
   "execution_count": null,
   "id": "7f339ede",
   "metadata": {},
   "outputs": [],
   "source": [
    "df2.income_level.unique()"
   ]
  },
  {
   "cell_type": "code",
   "execution_count": null,
   "id": "9ed03a50",
   "metadata": {},
   "outputs": [],
   "source": [
    "df2['income_level'] = df2['income_level'].map({'<10L':1, '10L - 25L': 2, '25L - 40L':3, '> 40L':4})"
   ]
  },
  {
   "cell_type": "code",
   "execution_count": null,
   "id": "4316d13f",
   "metadata": {},
   "outputs": [],
   "source": [
    "nominal_cols = ['gender', 'region', 'marital_status', 'bmi_category', 'smoking_status', 'employment_status']\n",
    "df3 = pd.get_dummies(df2, columns=nominal_cols, drop_first=True, dtype=int)\n",
    "df3.head(3)"
   ]
  },
  {
   "cell_type": "code",
   "execution_count": null,
   "id": "d15006da",
   "metadata": {},
   "outputs": [],
   "source": [
    "df3.info()"
   ]
  },
  {
   "cell_type": "markdown",
   "id": "052836fa",
   "metadata": {},
   "source": [
    "### Feature Selection"
   ]
  },
  {
   "cell_type": "code",
   "execution_count": null,
   "id": "6106f08c",
   "metadata": {},
   "outputs": [],
   "source": [
    "df4 = df3.drop(['medical_history','disease1', 'disease2', 'total_risk_score'], axis=1)\n",
    "df4.head(3)                "
   ]
  },
  {
   "cell_type": "markdown",
   "id": "5aa769d2",
   "metadata": {},
   "source": [
    "### Calculate VIF for Multicolinearity"
   ]
  },
  {
   "cell_type": "code",
   "execution_count": null,
   "id": "eae1ff29",
   "metadata": {},
   "outputs": [],
   "source": [
    "df4.columns"
   ]
  },
  {
   "cell_type": "code",
   "execution_count": null,
   "id": "f7611026",
   "metadata": {},
   "outputs": [],
   "source": [
    "cm = df4.corr()\n",
    "\n",
    "plt.figure(figsize=(20,12))\n",
    "sns.heatmap(cm, annot=True)\n",
    "plt.xticks(rotation=45, ha='right')\n",
    "plt.yticks(rotation=0)\n",
    "plt.tight_layout()\n",
    "plt.show()"
   ]
  },
  {
   "cell_type": "code",
   "execution_count": null,
   "id": "3d884bf8",
   "metadata": {},
   "outputs": [],
   "source": [
    "from statsmodels.stats.outliers_influence import variance_inflation_factor\n",
    "\n",
    "def calculate_vif(data):\n",
    "    vif_df = pd.DataFrame()\n",
    "    vif_df['Column'] = data.columns\n",
    "    vif_df['VIF'] = [variance_inflation_factor(data.values,i) for i in range(data.shape[1])]\n",
    "    return vif_df"
   ]
  },
  {
   "cell_type": "code",
   "execution_count": null,
   "id": "a4981128",
   "metadata": {},
   "outputs": [],
   "source": [
    "X = df4.drop('annual_premium_amount', axis='columns')\n",
    "y = df4['annual_premium_amount']\n",
    "\n",
    "from sklearn.preprocessing import MinMaxScaler\n",
    "\n",
    "cols_to_scale = ['age','number_of_dependants', 'income_level',  'income_lakhs', 'insurance_plan']\n",
    "scaler = MinMaxScaler()\n",
    "\n",
    "X[cols_to_scale] = scaler.fit_transform(X[cols_to_scale])\n",
    "X.describe()"
   ]
  },
  {
   "cell_type": "code",
   "execution_count": null,
   "id": "73e1e935",
   "metadata": {},
   "outputs": [],
   "source": [
    "calculate_vif(X)"
   ]
  },
  {
   "cell_type": "code",
   "execution_count": null,
   "id": "4b595613",
   "metadata": {},
   "outputs": [],
   "source": [
    "calculate_vif(X.drop('income_level', axis=\"columns\"))"
   ]
  },
  {
   "cell_type": "code",
   "execution_count": null,
   "id": "52b1af2f",
   "metadata": {},
   "outputs": [],
   "source": [
    "# we will drop income_lakhs due to high VIF value\n",
    "X_reduced = X.drop('income_level', axis=\"columns\")"
   ]
  },
  {
   "cell_type": "markdown",
   "id": "ee0b6219",
   "metadata": {},
   "source": [
    "<h2 align=\"center\" style=\"color:blue\">Model Training</h2>"
   ]
  },
  {
   "cell_type": "code",
   "execution_count": null,
   "id": "7dc54cd8",
   "metadata": {},
   "outputs": [],
   "source": [
    "X_train, X_test, y_train, y_test = train_test_split(X_reduced, y, test_size=0.30, random_state=10)\n",
    "\n",
    "# shape of the X_train, X_test, y_train, y_test features\n",
    "print(\"x train: \",X_train.shape)\n",
    "print(\"x test: \",X_test.shape)\n",
    "print(\"y train: \",y_train.shape)\n",
    "print(\"y test: \",y_test.shape)"
   ]
  },
  {
   "cell_type": "markdown",
   "id": "b46ad4f9",
   "metadata": {},
   "source": [
    "### Linear Regression Model"
   ]
  },
  {
   "cell_type": "code",
   "execution_count": null,
   "id": "299d3782",
   "metadata": {
    "scrolled": true
   },
   "outputs": [],
   "source": [
    "model_lr = LinearRegression()\n",
    "model_lr.fit(X_train, y_train)\n",
    "test_score = model_lr.score(X_test, y_test)\n",
    "train_score = model_lr.score(X_train, y_train)\n",
    "train_score, test_score"
   ]
  },
  {
   "cell_type": "code",
   "execution_count": null,
   "id": "abc474a8",
   "metadata": {},
   "outputs": [],
   "source": [
    "X_test.shape"
   ]
  },
  {
   "cell_type": "code",
   "execution_count": null,
   "id": "9377bc28",
   "metadata": {},
   "outputs": [],
   "source": [
    "np.set_printoptions(suppress=True, precision=6)\n",
    "model_lr.coef_"
   ]
  },
  {
   "cell_type": "code",
   "execution_count": null,
   "id": "d0c8ce66",
   "metadata": {},
   "outputs": [],
   "source": [
    "feature_importance = model_lr.coef_\n",
    "\n",
    "# Create a DataFrame for easier handling\n",
    "coef_df = pd.DataFrame(feature_importance, index=X_train.columns, columns=['Coefficients'])\n",
    "\n",
    "# Sort the coefficients for better visualization\n",
    "coef_df = coef_df.sort_values(by='Coefficients', ascending=True)\n",
    "\n",
    "# Plotting\n",
    "plt.figure(figsize=(8, 4))\n",
    "plt.barh(coef_df.index, coef_df['Coefficients'], color='steelblue')\n",
    "plt.xlabel('Coefficient Value')\n",
    "plt.title('Feature Importance in Linear Regression')\n",
    "plt.show()"
   ]
  },
  {
   "cell_type": "markdown",
   "id": "583165b0",
   "metadata": {},
   "source": [
    "### Ridge Regression "
   ]
  },
  {
   "cell_type": "code",
   "execution_count": null,
   "id": "af1b1e32",
   "metadata": {},
   "outputs": [],
   "source": [
    "model_rg = Ridge(alpha=1)\n",
    "model_rg.fit(X_train, y_train)\n",
    "test_score = model_rg.score(X_test, y_test)\n",
    "train_score = model_rg.score(X_train, y_train)\n",
    "train_score, test_score"
   ]
  },
  {
   "cell_type": "markdown",
   "id": "b3abfc14",
   "metadata": {},
   "source": [
    "### XGBoost"
   ]
  },
  {
   "cell_type": "code",
   "execution_count": null,
   "id": "c0ebb4ff",
   "metadata": {},
   "outputs": [],
   "source": [
    "from xgboost import XGBRegressor\n",
    "\n",
    "model_xgb = XGBRegressor(n_estimators=20, max_depth=3)\n",
    "model_xgb.fit(X_train, y_train)\n",
    "model_xgb.score(X_test, y_test)"
   ]
  },
  {
   "cell_type": "code",
   "execution_count": null,
   "id": "71df7421",
   "metadata": {},
   "outputs": [],
   "source": [
    "model_xgb = XGBRegressor()\n",
    "param_grid = {\n",
    "    'n_estimators': [20, 40, 50],\n",
    "    'learning_rate': [0.01, 0.1, 0.2],\n",
    "    'max_depth': [3, 4, 5],\n",
    "}\n",
    "random_search = RandomizedSearchCV(model_xgb, param_grid, n_iter=10, cv=3, scoring='r2', random_state=42, n_jobs=-1)\n",
    "random_search.fit(X_train, y_train)\n",
    "random_search.best_score_"
   ]
  },
  {
   "cell_type": "code",
   "execution_count": null,
   "id": "9fa60362",
   "metadata": {},
   "outputs": [],
   "source": [
    "random_search.best_params_"
   ]
  },
  {
   "cell_type": "code",
   "execution_count": null,
   "id": "a0755f16",
   "metadata": {},
   "outputs": [],
   "source": [
    "best_model = random_search.best_estimator_"
   ]
  },
  {
   "cell_type": "code",
   "execution_count": null,
   "id": "117f9cd7",
   "metadata": {},
   "outputs": [],
   "source": [
    "y_pred = best_model.predict(X_test)\n",
    "\n",
    "residuals = y_pred - y_test\n",
    "residuals_pct = (residuals / y_test) * 100\n",
    "\n",
    "results_df = pd.DataFrame({\n",
    "    'actual': y_test, \n",
    "    'predicted': y_pred, \n",
    "    'diff': residuals, \n",
    "    'diff_pct': residuals_pct\n",
    "})\n",
    "results_df.head()"
   ]
  },
  {
   "cell_type": "code",
   "execution_count": null,
   "id": "4a5ab89b",
   "metadata": {},
   "outputs": [],
   "source": [
    "sns.histplot(results_df['diff_pct'], kde=True)\n",
    "plt.title('Distribution of Residuals')\n",
    "plt.xlabel('Diff PCT')\n",
    "plt.ylabel('Frequency')\n",
    "plt.show()"
   ]
  },
  {
   "cell_type": "code",
   "execution_count": null,
   "id": "056177e5",
   "metadata": {},
   "outputs": [],
   "source": [
    "X_test.shape"
   ]
  },
  {
   "cell_type": "code",
   "execution_count": null,
   "id": "2545c67e",
   "metadata": {},
   "outputs": [],
   "source": [
    "extreme_error_threshold = 10  # You can adjust this threshold based on your domain knowledge or requirements\n",
    "extreme_results_df = results_df[np.abs(results_df['diff_pct']) > extreme_error_threshold]\n",
    "extreme_results_df.head()"
   ]
  },
  {
   "cell_type": "code",
   "execution_count": null,
   "id": "c9552d45",
   "metadata": {},
   "outputs": [],
   "source": [
    "extreme_results_df.shape"
   ]
  },
  {
   "cell_type": "code",
   "execution_count": null,
   "id": "9f605a73",
   "metadata": {},
   "outputs": [],
   "source": [
    "extreme_results_df.shape[0]*100/X_test.shape[0]"
   ]
  },
  {
   "cell_type": "code",
   "execution_count": null,
   "id": "ffb4d8ac-cb41-48fd-b2ed-f9d5b48603dd",
   "metadata": {},
   "outputs": [],
   "source": [
    "We have very few extreme errors (only 0.3%) which means this model looks good and no further investigation is required"
   ]
  }
 ],
 "metadata": {
  "kernelspec": {
   "display_name": "Python 3 (ipykernel)",
   "language": "python",
   "name": "python3"
  },
  "language_info": {
   "codemirror_mode": {
    "name": "ipython",
    "version": 3
   },
   "file_extension": ".py",
   "mimetype": "text/x-python",
   "name": "python",
   "nbconvert_exporter": "python",
   "pygments_lexer": "ipython3",
   "version": "3.13.3"
  }
 },
 "nbformat": 4,
 "nbformat_minor": 5
}
